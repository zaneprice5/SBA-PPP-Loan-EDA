{
  "cells": [
    {
      "cell_type": "markdown",
      "metadata": {
        "id": "view-in-github",
        "colab_type": "text"
      },
      "source": [
        "<a href=\"https://colab.research.google.com/github/zaneprice5/SBA_PPP_loan_analysis/blob/main/SBA_loan_analysis.ipynb\" target=\"_parent\"><img src=\"https://colab.research.google.com/assets/colab-badge.svg\" alt=\"Open In Colab\"/></a>"
      ]
    },
    {
      "cell_type": "markdown",
      "metadata": {
        "id": "_cPuy0JlSH0_"
      },
      "source": [
        "#Exploration of Small Business Administration PPP loan data\n",
        "\n",
        "This is a dataset publicly available on [Kaggle](https://www.kaggle.com/datasets/nflovejoy/paycheck-protection-program-loan-data). \n",
        "I will primarily conduct EDA on this dataset and potentially run some modeling.\n",
        "\n",
        "Sources:\n",
        "https://seaborn.pydata.org/tutorial/distributions.html;\n",
        "https://www.kaggle.com/code/apapiu/regularized-linear-models;\n",
        "https://www.kaggle.com/code/prashant111/comprehensive-guide-on-feature-selection;\n",
        "https://www.kaggle.com/code/pmarcelino/comprehensive-data-exploration-with-python\n",
        "\n",
        "\n",
        "\n",
        "###*Once we look at how many of the categorical features are missing values, it is pretty much useless to do any actual modeling on this data. But, we'll keep the notebook for EDA purposes and there is some really useful polotting here.*"
      ]
    },
    {
      "cell_type": "code",
      "execution_count": null,
      "metadata": {
        "id": "6WZ_IwsZSAaX"
      },
      "outputs": [],
      "source": [
        "# imports\n",
        "import pandas as pd\n",
        "import seaborn as sns\n",
        "import matplotlib.pyplot as plt\n",
        "import numpy as np\n",
        "import plotly.express as ex\n",
        "import plotly.graph_objs as go\n",
        "\n",
        "from sklearn.pipeline import Pipeline\n",
        "from sklearn.preprocessing import StandardScaler,LabelEncoder\n",
        "from sklearn.model_selection import train_test_split,cross_val_score\n",
        "from sklearn.feature_selection import mutual_info_classif \n",
        "from sklearn.feature_selection import SelectFromModel\n",
        "from sklearn.feature_selection import VarianceThreshold\n",
        "from sklearn.svm import LinearSVC\n",
        "\n",
        "\n",
        "from sklearn.linear_model import LinearRegression,LogisticRegression\n",
        "from sklearn.tree import DecisionTreeRegressor,DecisionTreeClassifier\n",
        "from sklearn.ensemble import RandomForestClassifier\n",
        "from sklearn.svm import SVC\n",
        "import os\n",
        "\n",
        "from sklearn.metrics import classification_report,confusion_matrix,f1_score\n",
        "import warnings\n",
        "warnings.filterwarnings('ignore')\n"
      ]
    },
    {
      "cell_type": "code",
      "execution_count": null,
      "metadata": {
        "colab": {
          "base_uri": "https://localhost:8080/"
        },
        "id": "d-RiA__0SnjY",
        "outputId": "4dc3d3cc-45a6-4ab7-8709-1463bf7dbf37"
      },
      "outputs": [
        {
          "output_type": "stream",
          "name": "stdout",
          "text": [
            "<class 'pandas.core.frame.DataFrame'>\n",
            "RangeIndex: 4581 entries, 0 to 4580\n",
            "Data columns (total 53 columns):\n",
            " #   Column                       Non-Null Count  Dtype  \n",
            "---  ------                       --------------  -----  \n",
            " 0   LoanNumber                   4581 non-null   int64  \n",
            " 1   DateApproved                 4581 non-null   object \n",
            " 2   SBAOfficeCode                4581 non-null   int64  \n",
            " 3   ProcessingMethod             4581 non-null   object \n",
            " 4   BorrowerName                 4580 non-null   object \n",
            " 5   BorrowerAddress              4573 non-null   object \n",
            " 6   BorrowerCity                 4573 non-null   object \n",
            " 7   BorrowerState                4568 non-null   object \n",
            " 8   BorrowerZip                  4573 non-null   object \n",
            " 9   LoanStatusDate               4436 non-null   object \n",
            " 10  LoanStatus                   4580 non-null   object \n",
            " 11  Term                         4580 non-null   float64\n",
            " 12  SBAGuarantyPercentage        4580 non-null   float64\n",
            " 13  InitialApprovalAmount        4580 non-null   float64\n",
            " 14  CurrentApprovalAmount        4580 non-null   float64\n",
            " 15  UndisbursedAmount            4580 non-null   float64\n",
            " 16  FranchiseName                134 non-null    object \n",
            " 17  ServicingLenderLocationID    4580 non-null   float64\n",
            " 18  ServicingLenderName          4580 non-null   object \n",
            " 19  ServicingLenderAddress       4580 non-null   object \n",
            " 20  ServicingLenderCity          4580 non-null   object \n",
            " 21  ServicingLenderState         4580 non-null   object \n",
            " 22  ServicingLenderZip           4580 non-null   object \n",
            " 23  RuralUrbanIndicator          4580 non-null   object \n",
            " 24  HubzoneIndicator             4580 non-null   object \n",
            " 25  LMIIndicator                 4580 non-null   object \n",
            " 26  BusinessAgeDescription       4580 non-null   object \n",
            " 27  ProjectCity                  4572 non-null   object \n",
            " 28  ProjectCountyName            4571 non-null   object \n",
            " 29  ProjectState                 4572 non-null   object \n",
            " 30  ProjectZip                   4572 non-null   object \n",
            " 31  CD                           4571 non-null   object \n",
            " 32  JobsReported                 4580 non-null   float64\n",
            " 33  NAICSCode                    4570 non-null   float64\n",
            " 34  Race                         4580 non-null   object \n",
            " 35  Ethnicity                    4580 non-null   object \n",
            " 36  UTILITIES_PROCEED            1715 non-null   float64\n",
            " 37  PAYROLL_PROCEED              4567 non-null   float64\n",
            " 38  MORTGAGE_INTEREST_PROCEED    200 non-null    float64\n",
            " 39  RENT_PROCEED                 593 non-null    float64\n",
            " 40  REFINANCE_EIDL_PROCEED       14 non-null     float64\n",
            " 41  HEALTH_CARE_PROCEED          274 non-null    float64\n",
            " 42  DEBT_INTEREST_PROCEED        134 non-null    float64\n",
            " 43  BusinessType                 4572 non-null   object \n",
            " 44  OriginatingLenderLocationID  4580 non-null   float64\n",
            " 45  OriginatingLender            4580 non-null   object \n",
            " 46  OriginatingLenderCity        4580 non-null   object \n",
            " 47  OriginatingLenderState       4580 non-null   object \n",
            " 48  Gender                       4580 non-null   object \n",
            " 49  Veteran                      4580 non-null   object \n",
            " 50  NonProfit                    356 non-null    object \n",
            " 51  ForgivenessAmount            4487 non-null   float64\n",
            " 52  ForgivenessDate              4487 non-null   object \n",
            "dtypes: float64(17), int64(2), object(34)\n",
            "memory usage: 1.9+ MB\n"
          ]
        }
      ],
      "source": [
        "# read in the data and check it out\n",
        "df = pd.read_csv('/content/public_150k_plus_230101.csv')\n",
        "\n",
        "\n",
        "dfsmall = df[:500]\n",
        "df.info()"
      ]
    },
    {
      "cell_type": "code",
      "execution_count": null,
      "metadata": {
        "id": "uVDBJHLjXPcX"
      },
      "outputs": [],
      "source": [
        "#let's check for missing values and from what proportion of the samples they're missing. \n",
        "\n",
        "missing_values = df.isnull().sum() / len(df)\n",
        "missing_values = missing_values[missing_values > 0]\n",
        "missing_values.sort_values(inplace=True)\n",
        "\n",
        "missing_values = missing_values.to_frame()\n",
        "missing_values.columns = ['count']\n",
        "missing_values.index.names = ['Name']\n",
        "missing_values['Name'] = missing_values.index\n"
      ]
    },
    {
      "cell_type": "code",
      "source": [
        "#plot to check it out\n",
        "\n",
        "sns.set_theme(style=\"whitegrid\")\n",
        "\n",
        "# Initialize the matplotlib figure\n",
        "f, ax = plt.subplots(figsize=(6, 10))\n",
        "\n",
        "# Plot the total crashes\n",
        "sns.set_color_codes(\"pastel\")\n",
        "sns.barplot(x=\"count\", y=\"Name\", data=missing_values,\n",
        "            label=\"Percent missing values\", color=\"b\")\n",
        "\n",
        "# Add a legend and informative axis label\n",
        "ax.legend(ncol=2, loc=\"lower right\", frameon=True)\n",
        "ax.set(xlim=(0,1), ylabel=\"Features\",\n",
        "       xlabel=\"Percent Missing Values\")\n",
        "sns.despine(left=True, bottom=True)"
      ],
      "metadata": {
        "colab": {
          "base_uri": "https://localhost:8080/",
          "height": 611
        },
        "id": "mqg4yGLd8ozW",
        "outputId": "8843120d-03ac-4db8-e589-1c69be23ec56"
      },
      "execution_count": null,
      "outputs": [
        {
          "output_type": "display_data",
          "data": {
            "text/plain": [
              "<Figure size 432x720 with 1 Axes>"
            ],
            "image/png": "[encoded data removed]"
          },
          "metadata": {}
        }
      ]
    },
    {
      "cell_type": "code",
      "execution_count": null,
      "metadata": {
        "colab": {
          "base_uri": "https://localhost:8080/"
        },
        "id": "WtUoXa9nYV-a",
        "outputId": "23cb5c3a-c1ee-4b92-de72-b957333ce483"
      },
      "outputs": [
        {
          "output_type": "stream",
          "name": "stdout",
          "text": [
            "<class 'pandas.core.frame.DataFrame'>\n",
            "RangeIndex: 4581 entries, 0 to 4580\n",
            "Data columns (total 45 columns):\n",
            " #   Column                       Non-Null Count  Dtype  \n",
            "---  ------                       --------------  -----  \n",
            " 0   LoanNumber                   4581 non-null   int64  \n",
            " 1   DateApproved                 4581 non-null   object \n",
            " 2   SBAOfficeCode                4581 non-null   int64  \n",
            " 3   ProcessingMethod             4581 non-null   object \n",
            " 4   BorrowerName                 4580 non-null   object \n",
            " 5   BorrowerAddress              4573 non-null   object \n",
            " 6   BorrowerCity                 4573 non-null   object \n",
            " 7   BorrowerState                4568 non-null   object \n",
            " 8   BorrowerZip                  4573 non-null   object \n",
            " 9   LoanStatusDate               4436 non-null   object \n",
            " 10  LoanStatus                   4580 non-null   object \n",
            " 11  Term                         4580 non-null   float64\n",
            " 12  SBAGuarantyPercentage        4580 non-null   float64\n",
            " 13  InitialApprovalAmount        4580 non-null   float64\n",
            " 14  CurrentApprovalAmount        4580 non-null   float64\n",
            " 15  UndisbursedAmount            4580 non-null   float64\n",
            " 16  ServicingLenderLocationID    4580 non-null   float64\n",
            " 17  ServicingLenderName          4580 non-null   object \n",
            " 18  ServicingLenderAddress       4580 non-null   object \n",
            " 19  ServicingLenderCity          4580 non-null   object \n",
            " 20  ServicingLenderState         4580 non-null   object \n",
            " 21  ServicingLenderZip           4580 non-null   object \n",
            " 22  RuralUrbanIndicator          4580 non-null   object \n",
            " 23  HubzoneIndicator             4580 non-null   object \n",
            " 24  LMIIndicator                 4580 non-null   object \n",
            " 25  BusinessAgeDescription       4580 non-null   object \n",
            " 26  ProjectCity                  4572 non-null   object \n",
            " 27  ProjectCountyName            4571 non-null   object \n",
            " 28  ProjectState                 4572 non-null   object \n",
            " 29  ProjectZip                   4572 non-null   object \n",
            " 30  CD                           4571 non-null   object \n",
            " 31  JobsReported                 4580 non-null   float64\n",
            " 32  NAICSCode                    4570 non-null   float64\n",
            " 33  Race                         4580 non-null   object \n",
            " 34  Ethnicity                    4580 non-null   object \n",
            " 35  PAYROLL_PROCEED              4567 non-null   float64\n",
            " 36  BusinessType                 4572 non-null   object \n",
            " 37  OriginatingLenderLocationID  4580 non-null   float64\n",
            " 38  OriginatingLender            4580 non-null   object \n",
            " 39  OriginatingLenderCity        4580 non-null   object \n",
            " 40  OriginatingLenderState       4580 non-null   object \n",
            " 41  Gender                       4580 non-null   object \n",
            " 42  Veteran                      4580 non-null   object \n",
            " 43  ForgivenessAmount            4487 non-null   float64\n",
            " 44  ForgivenessDate              4487 non-null   object \n",
            "dtypes: float64(11), int64(2), object(32)\n",
            "memory usage: 1.6+ MB\n"
          ]
        }
      ],
      "source": [
        "#let's remove these features from the dataframe that have more than 60% of their values missing. \n",
        "\n",
        "df2 = missing_values.loc[missing_values['count'] > .6]\n",
        "\n",
        "miss_features = [i for i in df2['Name']]\n",
        "# miss_features\n",
        "df.drop(miss_features, axis = 1, inplace = True\n",
        "        )\n",
        "df.info()"
      ]
    },
    {
      "cell_type": "markdown",
      "source": [
        "###What is interesting in this data? \n",
        "####Probably the loan forgiveness amount. \n",
        "####How did the features affect the amount? Perhaps, state, zip code, even race could be shown to have had influence in the amount of PPP loans forgiven. \n",
        "\n",
        "###Let's check it out!"
      ],
      "metadata": {
        "id": "oGMIvkFABig1"
      }
    },
    {
      "cell_type": "code",
      "source": [
        "#let's first do some EDA on the target variable. \n",
        "df['ForgivenessAmount'].describe()"
      ],
      "metadata": {
        "colab": {
          "base_uri": "https://localhost:8080/"
        },
        "id": "6A0Tbjr9D0aJ",
        "outputId": "e10a2077-3da0-4cb1-c5ce-cfdb50730168"
      },
      "execution_count": null,
      "outputs": [
        {
          "output_type": "execute_result",
          "data": {
            "text/plain": [
              "count    4.487000e+03\n",
              "mean     9.235962e+05\n",
              "std      1.082733e+06\n",
              "min      5.631680e+03\n",
              "25%      2.448337e+05\n",
              "50%      7.010413e+05\n",
              "75%      1.137629e+06\n",
              "max      1.018889e+07\n",
              "Name: ForgivenessAmount, dtype: float64"
            ]
          },
          "metadata": {},
          "execution_count": 9
        }
      ]
    },
    {
      "cell_type": "code",
      "source": [
        "#distribution of cont. variable\n",
        "\n",
        "sns.displot(df, x=\"ForgivenessAmount\", kind=\"hist\", color=\"b\")\n",
        "# change the limits of X-axis\n",
        "plt.xlim(0,2500000)\n",
        "plt.show()"
      ],
      "metadata": {
        "colab": {
          "base_uri": "https://localhost:8080/",
          "height": 365
        },
        "id": "PtL9OX3E-yLz",
        "outputId": "2dad17d3-7ea6-449b-982c-1792039d0754"
      },
      "execution_count": null,
      "outputs": [
        {
          "output_type": "display_data",
          "data": {
            "text/plain": [
              "<Figure size 360x360 with 1 Axes>"
            ],
            "image/png": "[encoded data removed]"
          },
          "metadata": {}
        }
      ]
    },
    {
      "cell_type": "markdown",
      "source": [
        "We can see that the vast majority of loans were less than 1 million. \n",
        "We do see a small spike around the 2 million-dollar mark. That is interesting. \n",
        "Lets get more granular around the mode and see what amount was most frequent. "
      ],
      "metadata": {
        "id": "F99uqNQ1Hhwx"
      }
    },
    {
      "cell_type": "code",
      "source": [
        "print('The most frequent amount issued/forgiven was $', df['ForgivenessAmount'].mode())"
      ],
      "metadata": {
        "colab": {
          "base_uri": "https://localhost:8080/"
        },
        "id": "ZIf6R88tCllx",
        "outputId": "2105e871-c27f-48ba-f9ef-6276a4955eca"
      },
      "execution_count": null,
      "outputs": [
        {
          "output_type": "stream",
          "name": "stdout",
          "text": [
            "The most frequent amount issued/forgiven was $ 0    150830.14\n",
            "dtype: float64\n"
          ]
        }
      ]
    },
    {
      "cell_type": "code",
      "source": [
        "sns.displot(df, x=\"ForgivenessAmount\", kind=\"hist\", color=\"b\")\n",
        "# change the limits of X-axis\n",
        "plt.xlim(0,250000)\n",
        "plt.show()"
      ],
      "metadata": {
        "colab": {
          "base_uri": "https://localhost:8080/",
          "height": 365
        },
        "id": "9wQOYEuLH8g9",
        "outputId": "eb8bbabe-090f-4087-b6b8-5d07d84b9ae6"
      },
      "execution_count": null,
      "outputs": [
        {
          "output_type": "display_data",
          "data": {
            "text/plain": [
              "<Figure size 360x360 with 1 Axes>"
            ],
            "image/png": "[encoded data removed]"
          },
          "metadata": {}
        }
      ]
    },
    {
      "cell_type": "code",
      "source": [
        "#let's look at amount by gender? and maybe veteran status? we'll zero in on the dense area of disribution\n",
        "\n",
        "sns.displot(df, x=\"ForgivenessAmount\", hue=\"Gender\", multiple=\"dodge\")\n",
        "plt.xlim(50000, 1000000)\n",
        "plt.show()\n",
        "df['Gender'].describe()"
      ],
      "metadata": {
        "colab": {
          "base_uri": "https://localhost:8080/",
          "height": 452
        },
        "id": "K4J-YmTPIo-c",
        "outputId": "1755227d-cf99-4477-e5c9-e8cd13567284"
      },
      "execution_count": null,
      "outputs": [
        {
          "output_type": "display_data",
          "data": {
            "text/plain": [
              "<Figure size 481.725x360 with 1 Axes>"
            ],
            "image/png": "[encoded data removed]"
          },
          "metadata": {}
        },
        {
          "output_type": "execute_result",
          "data": {
            "text/plain": [
              "count         968531\n",
              "unique             3\n",
              "top       Unanswered\n",
              "freq          581726\n",
              "Name: Gender, dtype: object"
            ]
          },
          "metadata": {},
          "execution_count": 10
        }
      ]
    },
    {
      "cell_type": "code",
      "source": [
        "sns.displot(df, x=\"ForgivenessAmount\", hue=\"Veteran\", multiple=\"dodge\")\n",
        "plt.xlim(50000, 1000000)\n",
        "plt.show()\n",
        "df['Veteran'].describe()"
      ],
      "metadata": {
        "colab": {
          "base_uri": "https://localhost:8080/",
          "height": 452
        },
        "id": "FeerDDcnJI3X",
        "outputId": "1700d0f7-ebca-41f1-94c9-701eedb909b7"
      },
      "execution_count": null,
      "outputs": [
        {
          "output_type": "display_data",
          "data": {
            "text/plain": [
              "<Figure size 468.35x360 with 1 Axes>"
            ],
            "image/png": "[encoded data removed]"
          },
          "metadata": {}
        },
        {
          "output_type": "execute_result",
          "data": {
            "text/plain": [
              "count         968531\n",
              "unique             3\n",
              "top       Unanswered\n",
              "freq          659937\n",
              "Name: Veteran, dtype: object"
            ]
          },
          "metadata": {},
          "execution_count": 11
        }
      ]
    },
    {
      "cell_type": "markdown",
      "source": [
        "###I've realized there isn't a whole lot of useful modeling we can do here...most of the samples don't even include race, ethnicity, etc. \n",
        "\n",
        "I guess we could look at state, jobs reported, race, ethnicity, business type, to do some modeling? Most of the rest of the features aren't all that useful to the general public or don't mean anything. \n"
      ],
      "metadata": {
        "id": "3VOUAq1HPqk3"
      }
    },
    {
      "cell_type": "markdown",
      "source": [
        "I think we need some feature engineering here...lots of features and we have no idea if they're important or not. \n"
      ],
      "metadata": {
        "id": "T-Wwc8GdTrYU"
      }
    },
    {
      "cell_type": "code",
      "source": [
        "#for one, we need to drop some features that could have thousands of levels...like address, date approved, etc. \n",
        "#let's just pick the features we want to include\n",
        "\n",
        "model_df = df[['BorrowerState', 'JobsReported', 'Race', 'Ethnicity', 'BusinessType', 'Gender', 'Veteran', 'ForgivenessAmount']]\n"
      ],
      "metadata": {
        "id": "0z9_LcebexvG"
      },
      "execution_count": null,
      "outputs": []
    },
    {
      "cell_type": "code",
      "source": [
        "model_df.head()"
      ],
      "metadata": {
        "colab": {
          "base_uri": "https://localhost:8080/",
          "height": 357
        },
        "id": "pnrWZrPdh9c-",
        "outputId": "e9ecc759-5caf-4611-adf4-5f632afb9f94"
      },
      "execution_count": null,
      "outputs": [
        {
          "output_type": "execute_result",
          "data": {
            "text/plain": [
              "  BorrowerState  JobsReported                              Race  \\\n",
              "0           NaN          62.0                        Unanswered   \n",
              "1           NaN          73.0                             White   \n",
              "2           NaN          75.0                        Unanswered   \n",
              "3           NaN          21.0  American Indian or Alaska Native   \n",
              "4           NaN          25.0                        Unanswered   \n",
              "\n",
              "                Ethnicity             BusinessType      Gender      Veteran  \\\n",
              "0       Unknown/NotStated              Corporation  Unanswered   Unanswered   \n",
              "1       Unknown/NotStated      Sole Proprietorship  Male Owned  Non-Veteran   \n",
              "2       Unknown/NotStated  Non-Profit Organization  Unanswered   Unanswered   \n",
              "3  Not Hispanic or Latino              Corporation  Male Owned  Non-Veteran   \n",
              "4       Unknown/NotStated                      NaN  Unanswered   Unanswered   \n",
              "\n",
              "   ForgivenessAmount  \n",
              "0          773553.37  \n",
              "1          746336.24  \n",
              "2          696677.49  \n",
              "3          395264.11  \n",
              "4          370819.35  "
            ],
            "text/html": [
              "\n",
              "  <div id=\"df-bcc936f1-fe5a-4bc8-9933-f9bb5a85bfb1\">\n",
              "    <div class=\"colab-df-container\">\n",
              "      <div>\n",
              "<style scoped>\n",
              "    .dataframe tbody tr th:only-of-type {\n",
              "        vertical-align: middle;\n",
              "    }\n",
              "\n",
              "    .dataframe tbody tr th {\n",
              "        vertical-align: top;\n",
              "    }\n",
              "\n",
              "    .dataframe thead th {\n",
              "        text-align: right;\n",
              "    }\n",
              "</style>\n",
              "<table border=\"1\" class=\"dataframe\">\n",
              "  <thead>\n",
              "    <tr style=\"text-align: right;\">\n",
              "      <th></th>\n",
              "      <th>BorrowerState</th>\n",
              "      <th>JobsReported</th>\n",
              "      <th>Race</th>\n",
              "      <th>Ethnicity</th>\n",
              "      <th>BusinessType</th>\n",
              "      <th>Gender</th>\n",
              "      <th>Veteran</th>\n",
              "      <th>ForgivenessAmount</th>\n",
              "    </tr>\n",
              "  </thead>\n",
              "  <tbody>\n",
              "    <tr>\n",
              "      <th>0</th>\n",
              "      <td>NaN</td>\n",
              "      <td>62.0</td>\n",
              "      <td>Unanswered</td>\n",
              "      <td>Unknown/NotStated</td>\n",
              "      <td>Corporation</td>\n",
              "      <td>Unanswered</td>\n",
              "      <td>Unanswered</td>\n",
              "      <td>773553.37</td>\n",
              "    </tr>\n",
              "    <tr>\n",
              "      <th>1</th>\n",
              "      <td>NaN</td>\n",
              "      <td>73.0</td>\n",
              "      <td>White</td>\n",
              "      <td>Unknown/NotStated</td>\n",
              "      <td>Sole Proprietorship</td>\n",
              "      <td>Male Owned</td>\n",
              "      <td>Non-Veteran</td>\n",
              "      <td>746336.24</td>\n",
              "    </tr>\n",
              "    <tr>\n",
              "      <th>2</th>\n",
              "      <td>NaN</td>\n",
              "      <td>75.0</td>\n",
              "      <td>Unanswered</td>\n",
              "      <td>Unknown/NotStated</td>\n",
              "      <td>Non-Profit Organization</td>\n",
              "      <td>Unanswered</td>\n",
              "      <td>Unanswered</td>\n",
              "      <td>696677.49</td>\n",
              "    </tr>\n",
              "    <tr>\n",
              "      <th>3</th>\n",
              "      <td>NaN</td>\n",
              "      <td>21.0</td>\n",
              "      <td>American Indian or Alaska Native</td>\n",
              "      <td>Not Hispanic or Latino</td>\n",
              "      <td>Corporation</td>\n",
              "      <td>Male Owned</td>\n",
              "      <td>Non-Veteran</td>\n",
              "      <td>395264.11</td>\n",
              "    </tr>\n",
              "    <tr>\n",
              "      <th>4</th>\n",
              "      <td>NaN</td>\n",
              "      <td>25.0</td>\n",
              "      <td>Unanswered</td>\n",
              "      <td>Unknown/NotStated</td>\n",
              "      <td>NaN</td>\n",
              "      <td>Unanswered</td>\n",
              "      <td>Unanswered</td>\n",
              "      <td>370819.35</td>\n",
              "    </tr>\n",
              "  </tbody>\n",
              "</table>\n",
              "</div>\n",
              "      <button class=\"colab-df-convert\" onclick=\"convertToInteractive('df-bcc936f1-fe5a-4bc8-9933-f9bb5a85bfb1')\"\n",
              "              title=\"Convert this dataframe to an interactive table.\"\n",
              "              style=\"display:none;\">\n",
              "        \n",
              "  <svg xmlns=\"http://www.w3.org/2000/svg\" height=\"24px\"viewBox=\"0 0 24 24\"\n",
              "       width=\"24px\">\n",
              "    <path d=\"M0 0h24v24H0V0z\" fill=\"none\"/>\n",
              "    <path d=\"M18.56 5.44l.94 2.06.94-2.06 2.06-.94-2.06-.94-.94-2.06-.94 2.06-2.06.94zm-11 1L8.5 8.5l.94-2.06 2.06-.94-2.06-.94L8.5 2.5l-.94 2.06-2.06.94zm10 10l.94 2.06.94-2.06 2.06-.94-2.06-.94-.94-2.06-.94 2.06-2.06.94z\"/><path d=\"M17.41 7.96l-1.37-1.37c-.4-.4-.92-.59-1.43-.59-.52 0-1.04.2-1.43.59L10.3 9.45l-7.72 7.72c-.78.78-.78 2.05 0 2.83L4 21.41c.39.39.9.59 1.41.59.51 0 1.02-.2 1.41-.59l7.78-7.78 2.81-2.81c.8-.78.8-2.07 0-2.86zM5.41 20L4 18.59l7.72-7.72 1.47 1.35L5.41 20z\"/>\n",
              "  </svg>\n",
              "      </button>\n",
              "      \n",
              "  <style>\n",
              "    .colab-df-container {\n",
              "      display:flex;\n",
              "      flex-wrap:wrap;\n",
              "      gap: 12px;\n",
              "    }\n",
              "\n",
              "    .colab-df-convert {\n",
              "      background-color: #E8F0FE;\n",
              "      border: none;\n",
              "      border-radius: 50%;\n",
              "      cursor: pointer;\n",
              "      display: none;\n",
              "      fill: #1967D2;\n",
              "      height: 32px;\n",
              "      padding: 0 0 0 0;\n",
              "      width: 32px;\n",
              "    }\n",
              "\n",
              "    .colab-df-convert:hover {\n",
              "      background-color: #E2EBFA;\n",
              "      box-shadow: 0px 1px 2px rgba(60, 64, 67, 0.3), 0px 1px 3px 1px rgba(60, 64, 67, 0.15);\n",
              "      fill: #174EA6;\n",
              "    }\n",
              "\n",
              "    [theme=dark] .colab-df-convert {\n",
              "      background-color: #3B4455;\n",
              "      fill: #D2E3FC;\n",
              "    }\n",
              "\n",
              "    [theme=dark] .colab-df-convert:hover {\n",
              "      background-color: #434B5C;\n",
              "      box-shadow: 0px 1px 3px 1px rgba(0, 0, 0, 0.15);\n",
              "      filter: drop-shadow(0px 1px 2px rgba(0, 0, 0, 0.3));\n",
              "      fill: #FFFFFF;\n",
              "    }\n",
              "  </style>\n",
              "\n",
              "      <script>\n",
              "        const buttonEl =\n",
              "          document.querySelector('#df-bcc936f1-fe5a-4bc8-9933-f9bb5a85bfb1 button.colab-df-convert');\n",
              "        buttonEl.style.display =\n",
              "          google.colab.kernel.accessAllowed ? 'block' : 'none';\n",
              "\n",
              "        async function convertToInteractive(key) {\n",
              "          const element = document.querySelector('#df-bcc936f1-fe5a-4bc8-9933-f9bb5a85bfb1');\n",
              "          const dataTable =\n",
              "            await google.colab.kernel.invokeFunction('convertToInteractive',\n",
              "                                                     [key], {});\n",
              "          if (!dataTable) return;\n",
              "\n",
              "          const docLinkHtml = 'Like what you see? Visit the ' +\n",
              "            '<a target=\"_blank\" href=https://colab.research.google.com/notebooks/data_table.ipynb>data table notebook</a>'\n",
              "            + ' to learn more about interactive tables.';\n",
              "          element.innerHTML = '';\n",
              "          dataTable['output_type'] = 'display_data';\n",
              "          await google.colab.output.renderOutput(dataTable, element);\n",
              "          const docLink = document.createElement('div');\n",
              "          docLink.innerHTML = docLinkHtml;\n",
              "          element.appendChild(docLink);\n",
              "        }\n",
              "      </script>\n",
              "    </div>\n",
              "  </div>\n",
              "  "
            ]
          },
          "metadata": {},
          "execution_count": 28
        }
      ]
    },
    {
      "cell_type": "code",
      "source": [
        "total = model_df.isnull().sum().sort_values(ascending=False)\n",
        "percent = (model_df.isnull().sum()/model_df.isnull().count()).sort_values(ascending=False)\n",
        "missing_data = pd.concat([total, percent], axis=1, keys=['Total', 'Percent'])\n",
        "missing_data.head(20)"
      ],
      "metadata": {
        "colab": {
          "base_uri": "https://localhost:8080/",
          "height": 300
        },
        "id": "Bqc6Yc2Nzmd0",
        "outputId": "09607858-ec15-40d6-fa8a-b0cdfbbc73ef"
      },
      "execution_count": null,
      "outputs": [
        {
          "output_type": "execute_result",
          "data": {
            "text/plain": [
              "                   Total   Percent\n",
              "ForgivenessAmount     94  0.020520\n",
              "BorrowerState         13  0.002838\n",
              "BusinessType           9  0.001965\n",
              "JobsReported           1  0.000218\n",
              "Race                   1  0.000218\n",
              "Ethnicity              1  0.000218\n",
              "Gender                 1  0.000218\n",
              "Veteran                1  0.000218"
            ],
            "text/html": [
              "\n",
              "  <div id=\"df-d4a44ede-c269-4ae4-ac59-c018da14dcdc\">\n",
              "    <div class=\"colab-df-container\">\n",
              "      <div>\n",
              "<style scoped>\n",
              "    .dataframe tbody tr th:only-of-type {\n",
              "        vertical-align: middle;\n",
              "    }\n",
              "\n",
              "    .dataframe tbody tr th {\n",
              "        vertical-align: top;\n",
              "    }\n",
              "\n",
              "    .dataframe thead th {\n",
              "        text-align: right;\n",
              "    }\n",
              "</style>\n",
              "<table border=\"1\" class=\"dataframe\">\n",
              "  <thead>\n",
              "    <tr style=\"text-align: right;\">\n",
              "      <th></th>\n",
              "      <th>Total</th>\n",
              "      <th>Percent</th>\n",
              "    </tr>\n",
              "  </thead>\n",
              "  <tbody>\n",
              "    <tr>\n",
              "      <th>ForgivenessAmount</th>\n",
              "      <td>94</td>\n",
              "      <td>0.020520</td>\n",
              "    </tr>\n",
              "    <tr>\n",
              "      <th>BorrowerState</th>\n",
              "      <td>13</td>\n",
              "      <td>0.002838</td>\n",
              "    </tr>\n",
              "    <tr>\n",
              "      <th>BusinessType</th>\n",
              "      <td>9</td>\n",
              "      <td>0.001965</td>\n",
              "    </tr>\n",
              "    <tr>\n",
              "      <th>JobsReported</th>\n",
              "      <td>1</td>\n",
              "      <td>0.000218</td>\n",
              "    </tr>\n",
              "    <tr>\n",
              "      <th>Race</th>\n",
              "      <td>1</td>\n",
              "      <td>0.000218</td>\n",
              "    </tr>\n",
              "    <tr>\n",
              "      <th>Ethnicity</th>\n",
              "      <td>1</td>\n",
              "      <td>0.000218</td>\n",
              "    </tr>\n",
              "    <tr>\n",
              "      <th>Gender</th>\n",
              "      <td>1</td>\n",
              "      <td>0.000218</td>\n",
              "    </tr>\n",
              "    <tr>\n",
              "      <th>Veteran</th>\n",
              "      <td>1</td>\n",
              "      <td>0.000218</td>\n",
              "    </tr>\n",
              "  </tbody>\n",
              "</table>\n",
              "</div>\n",
              "      <button class=\"colab-df-convert\" onclick=\"convertToInteractive('df-d4a44ede-c269-4ae4-ac59-c018da14dcdc')\"\n",
              "              title=\"Convert this dataframe to an interactive table.\"\n",
              "              style=\"display:none;\">\n",
              "        \n",
              "  <svg xmlns=\"http://www.w3.org/2000/svg\" height=\"24px\"viewBox=\"0 0 24 24\"\n",
              "       width=\"24px\">\n",
              "    <path d=\"M0 0h24v24H0V0z\" fill=\"none\"/>\n",
              "    <path d=\"M18.56 5.44l.94 2.06.94-2.06 2.06-.94-2.06-.94-.94-2.06-.94 2.06-2.06.94zm-11 1L8.5 8.5l.94-2.06 2.06-.94-2.06-.94L8.5 2.5l-.94 2.06-2.06.94zm10 10l.94 2.06.94-2.06 2.06-.94-2.06-.94-.94-2.06-.94 2.06-2.06.94z\"/><path d=\"M17.41 7.96l-1.37-1.37c-.4-.4-.92-.59-1.43-.59-.52 0-1.04.2-1.43.59L10.3 9.45l-7.72 7.72c-.78.78-.78 2.05 0 2.83L4 21.41c.39.39.9.59 1.41.59.51 0 1.02-.2 1.41-.59l7.78-7.78 2.81-2.81c.8-.78.8-2.07 0-2.86zM5.41 20L4 18.59l7.72-7.72 1.47 1.35L5.41 20z\"/>\n",
              "  </svg>\n",
              "      </button>\n",
              "      \n",
              "  <style>\n",
              "    .colab-df-container {\n",
              "      display:flex;\n",
              "      flex-wrap:wrap;\n",
              "      gap: 12px;\n",
              "    }\n",
              "\n",
              "    .colab-df-convert {\n",
              "      background-color: #E8F0FE;\n",
              "      border: none;\n",
              "      border-radius: 50%;\n",
              "      cursor: pointer;\n",
              "      display: none;\n",
              "      fill: #1967D2;\n",
              "      height: 32px;\n",
              "      padding: 0 0 0 0;\n",
              "      width: 32px;\n",
              "    }\n",
              "\n",
              "    .colab-df-convert:hover {\n",
              "      background-color: #E2EBFA;\n",
              "      box-shadow: 0px 1px 2px rgba(60, 64, 67, 0.3), 0px 1px 3px 1px rgba(60, 64, 67, 0.15);\n",
              "      fill: #174EA6;\n",
              "    }\n",
              "\n",
              "    [theme=dark] .colab-df-convert {\n",
              "      background-color: #3B4455;\n",
              "      fill: #D2E3FC;\n",
              "    }\n",
              "\n",
              "    [theme=dark] .colab-df-convert:hover {\n",
              "      background-color: #434B5C;\n",
              "      box-shadow: 0px 1px 3px 1px rgba(0, 0, 0, 0.15);\n",
              "      filter: drop-shadow(0px 1px 2px rgba(0, 0, 0, 0.3));\n",
              "      fill: #FFFFFF;\n",
              "    }\n",
              "  </style>\n",
              "\n",
              "      <script>\n",
              "        const buttonEl =\n",
              "          document.querySelector('#df-d4a44ede-c269-4ae4-ac59-c018da14dcdc button.colab-df-convert');\n",
              "        buttonEl.style.display =\n",
              "          google.colab.kernel.accessAllowed ? 'block' : 'none';\n",
              "\n",
              "        async function convertToInteractive(key) {\n",
              "          const element = document.querySelector('#df-d4a44ede-c269-4ae4-ac59-c018da14dcdc');\n",
              "          const dataTable =\n",
              "            await google.colab.kernel.invokeFunction('convertToInteractive',\n",
              "                                                     [key], {});\n",
              "          if (!dataTable) return;\n",
              "\n",
              "          const docLinkHtml = 'Like what you see? Visit the ' +\n",
              "            '<a target=\"_blank\" href=https://colab.research.google.com/notebooks/data_table.ipynb>data table notebook</a>'\n",
              "            + ' to learn more about interactive tables.';\n",
              "          element.innerHTML = '';\n",
              "          dataTable['output_type'] = 'display_data';\n",
              "          await google.colab.output.renderOutput(dataTable, element);\n",
              "          const docLink = document.createElement('div');\n",
              "          docLink.innerHTML = docLinkHtml;\n",
              "          element.appendChild(docLink);\n",
              "        }\n",
              "      </script>\n",
              "    </div>\n",
              "  </div>\n",
              "  "
            ]
          },
          "metadata": {},
          "execution_count": 29
        }
      ]
    },
    {
      "cell_type": "code",
      "source": [
        "#skewness and kurtosis\n",
        "print(\"Skewness: %f\" % df['ForgivenessAmount'].skew())\n",
        "print(\"Kurtosis: %f\" % df['ForgivenessAmount'].kurt())"
      ],
      "metadata": {
        "colab": {
          "base_uri": "https://localhost:8080/"
        },
        "id": "9GZYw8WGweR9",
        "outputId": "0325605e-7650-4702-be13-e8b7c689b759"
      },
      "execution_count": null,
      "outputs": [
        {
          "output_type": "stream",
          "name": "stdout",
          "text": [
            "Skewness: 3.863594\n",
            "Kurtosis: 22.170400\n"
          ]
        }
      ]
    },
    {
      "cell_type": "markdown",
      "source": [
        "So the target variable is highly kurtotic, as normal is 0.0. \n",
        "https://pandas.pydata.org/docs/reference/api/pandas.DataFrame.kurtosis.html"
      ],
      "metadata": {
        "id": "L4HK6gF_xHn8"
      }
    },
    {
      "cell_type": "code",
      "source": [
        "#look at jobs and target\n",
        "\n",
        "var = 'JobsReported'\n",
        "data = pd.concat([model_df['ForgivenessAmount'], model_df[var]], axis=1)\n",
        "data.plot.scatter(x=var, y='ForgivenessAmount', ylim=(0,3000000));"
      ],
      "metadata": {
        "id": "6NBAszKrxgYE",
        "colab": {
          "base_uri": "https://localhost:8080/",
          "height": 333
        },
        "outputId": "606167f7-71d8-4988-ad05-6d1ecdaeb299"
      },
      "execution_count": null,
      "outputs": [
        {
          "output_type": "stream",
          "name": "stderr",
          "text": [
            "WARNING:matplotlib.axes._axes:*c* argument looks like a single numeric RGB or RGBA sequence, which should be avoided as value-mapping will have precedence in case its length matches with *x* & *y*.  Please use the *color* keyword-argument or provide a 2-D array with a single row if you intend to specify the same RGB or RGBA value for all points.\n"
          ]
        },
        {
          "output_type": "display_data",
          "data": {
            "text/plain": [
              "<Figure size 432x288 with 1 Axes>"
            ],
            "image/png": "[encoded data removed]"
          },
          "metadata": {}
        }
      ]
    },
    {
      "cell_type": "code",
      "source": [
        "#encode categorical variables\n",
        "catdf = model_df.select_dtypes(include = object)\n",
        "cat_features = [i for i in catdf.columns]\n",
        "cat_features"
      ],
      "metadata": {
        "colab": {
          "base_uri": "https://localhost:8080/"
        },
        "id": "X-pvEuIfVDP8",
        "outputId": "c65c25a8-1fa3-4331-cfb2-6407550efe58"
      },
      "execution_count": null,
      "outputs": [
        {
          "output_type": "execute_result",
          "data": {
            "text/plain": [
              "['BorrowerState', 'Race', 'Ethnicity', 'BusinessType', 'Gender', 'Veteran']"
            ]
          },
          "metadata": {},
          "execution_count": 21
        }
      ]
    },
    {
      "cell_type": "code",
      "source": [
        "cat_encoded = pd.get_dummies(df[cat_features], drop_first = True)\n",
        "cat_encoded.head()"
      ],
      "metadata": {
        "id": "UtfhRId2qJvK",
        "colab": {
          "base_uri": "https://localhost:8080/",
          "height": 369
        },
        "outputId": "b419bfa7-871d-4521-d710-59a55eca07ec"
      },
      "execution_count": null,
      "outputs": [
        {
          "output_type": "execute_result",
          "data": {
            "text/plain": [
              "   BorrowerState_AL  Race_Asian  Race_Black or African American  \\\n",
              "0                 0           0                               0   \n",
              "1                 0           0                               0   \n",
              "2                 0           0                               0   \n",
              "3                 0           0                               0   \n",
              "4                 0           0                               0   \n",
              "\n",
              "   Race_Eskimo & Aleut  Race_Native Hawaiian or Other Pacific Islander  \\\n",
              "0                    0                                               0   \n",
              "1                    0                                               0   \n",
              "2                    0                                               0   \n",
              "3                    0                                               0   \n",
              "4                    0                                               0   \n",
              "\n",
              "   Race_Unanswered  Race_White  Ethnicity_Not Hispanic or Latino  \\\n",
              "0                1           0                                 0   \n",
              "1                0           1                                 0   \n",
              "2                1           0                                 0   \n",
              "3                0           0                                 1   \n",
              "4                1           0                                 0   \n",
              "\n",
              "   Ethnicity_Unknown/NotStated  BusinessType_501(c)6 – Non Profit Membership  \\\n",
              "0                            1                                             0   \n",
              "1                            1                                             0   \n",
              "2                            1                                             0   \n",
              "3                            0                                             0   \n",
              "4                            1                                             0   \n",
              "\n",
              "   ...  BusinessType_Professional Association  \\\n",
              "0  ...                                      0   \n",
              "1  ...                                      0   \n",
              "2  ...                                      0   \n",
              "3  ...                                      0   \n",
              "4  ...                                      0   \n",
              "\n",
              "   BusinessType_Self-Employed Individuals  BusinessType_Single Member LLC  \\\n",
              "0                                       0                               0   \n",
              "1                                       0                               0   \n",
              "2                                       0                               0   \n",
              "3                                       0                               0   \n",
              "4                                       0                               0   \n",
              "\n",
              "   BusinessType_Sole Proprietorship  BusinessType_Subchapter S Corporation  \\\n",
              "0                                 0                                      0   \n",
              "1                                 1                                      0   \n",
              "2                                 0                                      0   \n",
              "3                                 0                                      0   \n",
              "4                                 0                                      0   \n",
              "\n",
              "   BusinessType_Trust  Gender_Male Owned  Gender_Unanswered  \\\n",
              "0                   0                  0                  1   \n",
              "1                   0                  1                  0   \n",
              "2                   0                  0                  1   \n",
              "3                   0                  1                  0   \n",
              "4                   0                  0                  1   \n",
              "\n",
              "   Veteran_Unanswered  Veteran_Veteran  \n",
              "0                   1                0  \n",
              "1                   0                0  \n",
              "2                   1                0  \n",
              "3                   0                0  \n",
              "4                   1                0  \n",
              "\n",
              "[5 rows x 30 columns]"
            ],
            "text/html": [
              "\n",
              "  <div id=\"df-440bc990-3c8c-4827-aebc-6cace2ac4ac1\">\n",
              "    <div class=\"colab-df-container\">\n",
              "      <div>\n",
              "<style scoped>\n",
              "    .dataframe tbody tr th:only-of-type {\n",
              "        vertical-align: middle;\n",
              "    }\n",
              "\n",
              "    .dataframe tbody tr th {\n",
              "        vertical-align: top;\n",
              "    }\n",
              "\n",
              "    .dataframe thead th {\n",
              "        text-align: right;\n",
              "    }\n",
              "</style>\n",
              "<table border=\"1\" class=\"dataframe\">\n",
              "  <thead>\n",
              "    <tr style=\"text-align: right;\">\n",
              "      <th></th>\n",
              "      <th>BorrowerState_AL</th>\n",
              "      <th>Race_Asian</th>\n",
              "      <th>Race_Black or African American</th>\n",
              "      <th>Race_Eskimo &amp; Aleut</th>\n",
              "      <th>Race_Native Hawaiian or Other Pacific Islander</th>\n",
              "      <th>Race_Unanswered</th>\n",
              "      <th>Race_White</th>\n",
              "      <th>Ethnicity_Not Hispanic or Latino</th>\n",
              "      <th>Ethnicity_Unknown/NotStated</th>\n",
              "      <th>BusinessType_501(c)6 – Non Profit Membership</th>\n",
              "      <th>...</th>\n",
              "      <th>BusinessType_Professional Association</th>\n",
              "      <th>BusinessType_Self-Employed Individuals</th>\n",
              "      <th>BusinessType_Single Member LLC</th>\n",
              "      <th>BusinessType_Sole Proprietorship</th>\n",
              "      <th>BusinessType_Subchapter S Corporation</th>\n",
              "      <th>BusinessType_Trust</th>\n",
              "      <th>Gender_Male Owned</th>\n",
              "      <th>Gender_Unanswered</th>\n",
              "      <th>Veteran_Unanswered</th>\n",
              "      <th>Veteran_Veteran</th>\n",
              "    </tr>\n",
              "  </thead>\n",
              "  <tbody>\n",
              "    <tr>\n",
              "      <th>0</th>\n",
              "      <td>0</td>\n",
              "      <td>0</td>\n",
              "      <td>0</td>\n",
              "      <td>0</td>\n",
              "      <td>0</td>\n",
              "      <td>1</td>\n",
              "      <td>0</td>\n",
              "      <td>0</td>\n",
              "      <td>1</td>\n",
              "      <td>0</td>\n",
              "      <td>...</td>\n",
              "      <td>0</td>\n",
              "      <td>0</td>\n",
              "      <td>0</td>\n",
              "      <td>0</td>\n",
              "      <td>0</td>\n",
              "      <td>0</td>\n",
              "      <td>0</td>\n",
              "      <td>1</td>\n",
              "      <td>1</td>\n",
              "      <td>0</td>\n",
              "    </tr>\n",
              "    <tr>\n",
              "      <th>1</th>\n",
              "      <td>0</td>\n",
              "      <td>0</td>\n",
              "      <td>0</td>\n",
              "      <td>0</td>\n",
              "      <td>0</td>\n",
              "      <td>0</td>\n",
              "      <td>1</td>\n",
              "      <td>0</td>\n",
              "      <td>1</td>\n",
              "      <td>0</td>\n",
              "      <td>...</td>\n",
              "      <td>0</td>\n",
              "      <td>0</td>\n",
              "      <td>0</td>\n",
              "      <td>1</td>\n",
              "      <td>0</td>\n",
              "      <td>0</td>\n",
              "      <td>1</td>\n",
              "      <td>0</td>\n",
              "      <td>0</td>\n",
              "      <td>0</td>\n",
              "    </tr>\n",
              "    <tr>\n",
              "      <th>2</th>\n",
              "      <td>0</td>\n",
              "      <td>0</td>\n",
              "      <td>0</td>\n",
              "      <td>0</td>\n",
              "      <td>0</td>\n",
              "      <td>1</td>\n",
              "      <td>0</td>\n",
              "      <td>0</td>\n",
              "      <td>1</td>\n",
              "      <td>0</td>\n",
              "      <td>...</td>\n",
              "      <td>0</td>\n",
              "      <td>0</td>\n",
              "      <td>0</td>\n",
              "      <td>0</td>\n",
              "      <td>0</td>\n",
              "      <td>0</td>\n",
              "      <td>0</td>\n",
              "      <td>1</td>\n",
              "      <td>1</td>\n",
              "      <td>0</td>\n",
              "    </tr>\n",
              "    <tr>\n",
              "      <th>3</th>\n",
              "      <td>0</td>\n",
              "      <td>0</td>\n",
              "      <td>0</td>\n",
              "      <td>0</td>\n",
              "      <td>0</td>\n",
              "      <td>0</td>\n",
              "      <td>0</td>\n",
              "      <td>1</td>\n",
              "      <td>0</td>\n",
              "      <td>0</td>\n",
              "      <td>...</td>\n",
              "      <td>0</td>\n",
              "      <td>0</td>\n",
              "      <td>0</td>\n",
              "      <td>0</td>\n",
              "      <td>0</td>\n",
              "      <td>0</td>\n",
              "      <td>1</td>\n",
              "      <td>0</td>\n",
              "      <td>0</td>\n",
              "      <td>0</td>\n",
              "    </tr>\n",
              "    <tr>\n",
              "      <th>4</th>\n",
              "      <td>0</td>\n",
              "      <td>0</td>\n",
              "      <td>0</td>\n",
              "      <td>0</td>\n",
              "      <td>0</td>\n",
              "      <td>1</td>\n",
              "      <td>0</td>\n",
              "      <td>0</td>\n",
              "      <td>1</td>\n",
              "      <td>0</td>\n",
              "      <td>...</td>\n",
              "      <td>0</td>\n",
              "      <td>0</td>\n",
              "      <td>0</td>\n",
              "      <td>0</td>\n",
              "      <td>0</td>\n",
              "      <td>0</td>\n",
              "      <td>0</td>\n",
              "      <td>1</td>\n",
              "      <td>1</td>\n",
              "      <td>0</td>\n",
              "    </tr>\n",
              "  </tbody>\n",
              "</table>\n",
              "<p>5 rows × 30 columns</p>\n",
              "</div>\n",
              "      <button class=\"colab-df-convert\" onclick=\"convertToInteractive('df-440bc990-3c8c-4827-aebc-6cace2ac4ac1')\"\n",
              "              title=\"Convert this dataframe to an interactive table.\"\n",
              "              style=\"display:none;\">\n",
              "        \n",
              "  <svg xmlns=\"http://www.w3.org/2000/svg\" height=\"24px\"viewBox=\"0 0 24 24\"\n",
              "       width=\"24px\">\n",
              "    <path d=\"M0 0h24v24H0V0z\" fill=\"none\"/>\n",
              "    <path d=\"M18.56 5.44l.94 2.06.94-2.06 2.06-.94-2.06-.94-.94-2.06-.94 2.06-2.06.94zm-11 1L8.5 8.5l.94-2.06 2.06-.94-2.06-.94L8.5 2.5l-.94 2.06-2.06.94zm10 10l.94 2.06.94-2.06 2.06-.94-2.06-.94-.94-2.06-.94 2.06-2.06.94z\"/><path d=\"M17.41 7.96l-1.37-1.37c-.4-.4-.92-.59-1.43-.59-.52 0-1.04.2-1.43.59L10.3 9.45l-7.72 7.72c-.78.78-.78 2.05 0 2.83L4 21.41c.39.39.9.59 1.41.59.51 0 1.02-.2 1.41-.59l7.78-7.78 2.81-2.81c.8-.78.8-2.07 0-2.86zM5.41 20L4 18.59l7.72-7.72 1.47 1.35L5.41 20z\"/>\n",
              "  </svg>\n",
              "      </button>\n",
              "      \n",
              "  <style>\n",
              "    .colab-df-container {\n",
              "      display:flex;\n",
              "      flex-wrap:wrap;\n",
              "      gap: 12px;\n",
              "    }\n",
              "\n",
              "    .colab-df-convert {\n",
              "      background-color: #E8F0FE;\n",
              "      border: none;\n",
              "      border-radius: 50%;\n",
              "      cursor: pointer;\n",
              "      display: none;\n",
              "      fill: #1967D2;\n",
              "      height: 32px;\n",
              "      padding: 0 0 0 0;\n",
              "      width: 32px;\n",
              "    }\n",
              "\n",
              "    .colab-df-convert:hover {\n",
              "      background-color: #E2EBFA;\n",
              "      box-shadow: 0px 1px 2px rgba(60, 64, 67, 0.3), 0px 1px 3px 1px rgba(60, 64, 67, 0.15);\n",
              "      fill: #174EA6;\n",
              "    }\n",
              "\n",
              "    [theme=dark] .colab-df-convert {\n",
              "      background-color: #3B4455;\n",
              "      fill: #D2E3FC;\n",
              "    }\n",
              "\n",
              "    [theme=dark] .colab-df-convert:hover {\n",
              "      background-color: #434B5C;\n",
              "      box-shadow: 0px 1px 3px 1px rgba(0, 0, 0, 0.15);\n",
              "      filter: drop-shadow(0px 1px 2px rgba(0, 0, 0, 0.3));\n",
              "      fill: #FFFFFF;\n",
              "    }\n",
              "  </style>\n",
              "\n",
              "      <script>\n",
              "        const buttonEl =\n",
              "          document.querySelector('#df-440bc990-3c8c-4827-aebc-6cace2ac4ac1 button.colab-df-convert');\n",
              "        buttonEl.style.display =\n",
              "          google.colab.kernel.accessAllowed ? 'block' : 'none';\n",
              "\n",
              "        async function convertToInteractive(key) {\n",
              "          const element = document.querySelector('#df-440bc990-3c8c-4827-aebc-6cace2ac4ac1');\n",
              "          const dataTable =\n",
              "            await google.colab.kernel.invokeFunction('convertToInteractive',\n",
              "                                                     [key], {});\n",
              "          if (!dataTable) return;\n",
              "\n",
              "          const docLinkHtml = 'Like what you see? Visit the ' +\n",
              "            '<a target=\"_blank\" href=https://colab.research.google.com/notebooks/data_table.ipynb>data table notebook</a>'\n",
              "            + ' to learn more about interactive tables.';\n",
              "          element.innerHTML = '';\n",
              "          dataTable['output_type'] = 'display_data';\n",
              "          await google.colab.output.renderOutput(dataTable, element);\n",
              "          const docLink = document.createElement('div');\n",
              "          docLink.innerHTML = docLinkHtml;\n",
              "          element.appendChild(docLink);\n",
              "        }\n",
              "      </script>\n",
              "    </div>\n",
              "  </div>\n",
              "  "
            ]
          },
          "metadata": {},
          "execution_count": 22
        }
      ]
    },
    {
      "cell_type": "code",
      "source": [
        "model_df[cat_encoded.columns] = cat_encoded\n",
        "model_df.head()"
      ],
      "metadata": {
        "colab": {
          "base_uri": "https://localhost:8080/",
          "height": 421
        },
        "id": "No4icdWVrmfP",
        "outputId": "9b53c53e-c2a4-48b3-d783-53599b1ef259"
      },
      "execution_count": null,
      "outputs": [
        {
          "output_type": "execute_result",
          "data": {
            "text/plain": [
              "  BorrowerState  JobsReported                              Race  \\\n",
              "0           NaN          62.0                        Unanswered   \n",
              "1           NaN          73.0                             White   \n",
              "2           NaN          75.0                        Unanswered   \n",
              "3           NaN          21.0  American Indian or Alaska Native   \n",
              "4           NaN          25.0                        Unanswered   \n",
              "\n",
              "                Ethnicity             BusinessType      Gender      Veteran  \\\n",
              "0       Unknown/NotStated              Corporation  Unanswered   Unanswered   \n",
              "1       Unknown/NotStated      Sole Proprietorship  Male Owned  Non-Veteran   \n",
              "2       Unknown/NotStated  Non-Profit Organization  Unanswered   Unanswered   \n",
              "3  Not Hispanic or Latino              Corporation  Male Owned  Non-Veteran   \n",
              "4       Unknown/NotStated                      NaN  Unanswered   Unanswered   \n",
              "\n",
              "   ForgivenessAmount  BorrowerState_AL  Race_Asian  ...  \\\n",
              "0          773553.37                 0           0  ...   \n",
              "1          746336.24                 0           0  ...   \n",
              "2          696677.49                 0           0  ...   \n",
              "3          395264.11                 0           0  ...   \n",
              "4          370819.35                 0           0  ...   \n",
              "\n",
              "   BusinessType_Professional Association  \\\n",
              "0                                      0   \n",
              "1                                      0   \n",
              "2                                      0   \n",
              "3                                      0   \n",
              "4                                      0   \n",
              "\n",
              "   BusinessType_Self-Employed Individuals  BusinessType_Single Member LLC  \\\n",
              "0                                       0                               0   \n",
              "1                                       0                               0   \n",
              "2                                       0                               0   \n",
              "3                                       0                               0   \n",
              "4                                       0                               0   \n",
              "\n",
              "   BusinessType_Sole Proprietorship  BusinessType_Subchapter S Corporation  \\\n",
              "0                                 0                                      0   \n",
              "1                                 1                                      0   \n",
              "2                                 0                                      0   \n",
              "3                                 0                                      0   \n",
              "4                                 0                                      0   \n",
              "\n",
              "   BusinessType_Trust  Gender_Male Owned  Gender_Unanswered  \\\n",
              "0                   0                  0                  1   \n",
              "1                   0                  1                  0   \n",
              "2                   0                  0                  1   \n",
              "3                   0                  1                  0   \n",
              "4                   0                  0                  1   \n",
              "\n",
              "   Veteran_Unanswered  Veteran_Veteran  \n",
              "0                   1                0  \n",
              "1                   0                0  \n",
              "2                   1                0  \n",
              "3                   0                0  \n",
              "4                   1                0  \n",
              "\n",
              "[5 rows x 38 columns]"
            ],
            "text/html": [
              "\n",
              "  <div id=\"df-e2c6ce05-2561-4221-83ee-b59c24d80df0\">\n",
              "    <div class=\"colab-df-container\">\n",
              "      <div>\n",
              "<style scoped>\n",
              "    .dataframe tbody tr th:only-of-type {\n",
              "        vertical-align: middle;\n",
              "    }\n",
              "\n",
              "    .dataframe tbody tr th {\n",
              "        vertical-align: top;\n",
              "    }\n",
              "\n",
              "    .dataframe thead th {\n",
              "        text-align: right;\n",
              "    }\n",
              "</style>\n",
              "<table border=\"1\" class=\"dataframe\">\n",
              "  <thead>\n",
              "    <tr style=\"text-align: right;\">\n",
              "      <th></th>\n",
              "      <th>BorrowerState</th>\n",
              "      <th>JobsReported</th>\n",
              "      <th>Race</th>\n",
              "      <th>Ethnicity</th>\n",
              "      <th>BusinessType</th>\n",
              "      <th>Gender</th>\n",
              "      <th>Veteran</th>\n",
              "      <th>ForgivenessAmount</th>\n",
              "      <th>BorrowerState_AL</th>\n",
              "      <th>Race_Asian</th>\n",
              "      <th>...</th>\n",
              "      <th>BusinessType_Professional Association</th>\n",
              "      <th>BusinessType_Self-Employed Individuals</th>\n",
              "      <th>BusinessType_Single Member LLC</th>\n",
              "      <th>BusinessType_Sole Proprietorship</th>\n",
              "      <th>BusinessType_Subchapter S Corporation</th>\n",
              "      <th>BusinessType_Trust</th>\n",
              "      <th>Gender_Male Owned</th>\n",
              "      <th>Gender_Unanswered</th>\n",
              "      <th>Veteran_Unanswered</th>\n",
              "      <th>Veteran_Veteran</th>\n",
              "    </tr>\n",
              "  </thead>\n",
              "  <tbody>\n",
              "    <tr>\n",
              "      <th>0</th>\n",
              "      <td>NaN</td>\n",
              "      <td>62.0</td>\n",
              "      <td>Unanswered</td>\n",
              "      <td>Unknown/NotStated</td>\n",
              "      <td>Corporation</td>\n",
              "      <td>Unanswered</td>\n",
              "      <td>Unanswered</td>\n",
              "      <td>773553.37</td>\n",
              "      <td>0</td>\n",
              "      <td>0</td>\n",
              "      <td>...</td>\n",
              "      <td>0</td>\n",
              "      <td>0</td>\n",
              "      <td>0</td>\n",
              "      <td>0</td>\n",
              "      <td>0</td>\n",
              "      <td>0</td>\n",
              "      <td>0</td>\n",
              "      <td>1</td>\n",
              "      <td>1</td>\n",
              "      <td>0</td>\n",
              "    </tr>\n",
              "    <tr>\n",
              "      <th>1</th>\n",
              "      <td>NaN</td>\n",
              "      <td>73.0</td>\n",
              "      <td>White</td>\n",
              "      <td>Unknown/NotStated</td>\n",
              "      <td>Sole Proprietorship</td>\n",
              "      <td>Male Owned</td>\n",
              "      <td>Non-Veteran</td>\n",
              "      <td>746336.24</td>\n",
              "      <td>0</td>\n",
              "      <td>0</td>\n",
              "      <td>...</td>\n",
              "      <td>0</td>\n",
              "      <td>0</td>\n",
              "      <td>0</td>\n",
              "      <td>1</td>\n",
              "      <td>0</td>\n",
              "      <td>0</td>\n",
              "      <td>1</td>\n",
              "      <td>0</td>\n",
              "      <td>0</td>\n",
              "      <td>0</td>\n",
              "    </tr>\n",
              "    <tr>\n",
              "      <th>2</th>\n",
              "      <td>NaN</td>\n",
              "      <td>75.0</td>\n",
              "      <td>Unanswered</td>\n",
              "      <td>Unknown/NotStated</td>\n",
              "      <td>Non-Profit Organization</td>\n",
              "      <td>Unanswered</td>\n",
              "      <td>Unanswered</td>\n",
              "      <td>696677.49</td>\n",
              "      <td>0</td>\n",
              "      <td>0</td>\n",
              "      <td>...</td>\n",
              "      <td>0</td>\n",
              "      <td>0</td>\n",
              "      <td>0</td>\n",
              "      <td>0</td>\n",
              "      <td>0</td>\n",
              "      <td>0</td>\n",
              "      <td>0</td>\n",
              "      <td>1</td>\n",
              "      <td>1</td>\n",
              "      <td>0</td>\n",
              "    </tr>\n",
              "    <tr>\n",
              "      <th>3</th>\n",
              "      <td>NaN</td>\n",
              "      <td>21.0</td>\n",
              "      <td>American Indian or Alaska Native</td>\n",
              "      <td>Not Hispanic or Latino</td>\n",
              "      <td>Corporation</td>\n",
              "      <td>Male Owned</td>\n",
              "      <td>Non-Veteran</td>\n",
              "      <td>395264.11</td>\n",
              "      <td>0</td>\n",
              "      <td>0</td>\n",
              "      <td>...</td>\n",
              "      <td>0</td>\n",
              "      <td>0</td>\n",
              "      <td>0</td>\n",
              "      <td>0</td>\n",
              "      <td>0</td>\n",
              "      <td>0</td>\n",
              "      <td>1</td>\n",
              "      <td>0</td>\n",
              "      <td>0</td>\n",
              "      <td>0</td>\n",
              "    </tr>\n",
              "    <tr>\n",
              "      <th>4</th>\n",
              "      <td>NaN</td>\n",
              "      <td>25.0</td>\n",
              "      <td>Unanswered</td>\n",
              "      <td>Unknown/NotStated</td>\n",
              "      <td>NaN</td>\n",
              "      <td>Unanswered</td>\n",
              "      <td>Unanswered</td>\n",
              "      <td>370819.35</td>\n",
              "      <td>0</td>\n",
              "      <td>0</td>\n",
              "      <td>...</td>\n",
              "      <td>0</td>\n",
              "      <td>0</td>\n",
              "      <td>0</td>\n",
              "      <td>0</td>\n",
              "      <td>0</td>\n",
              "      <td>0</td>\n",
              "      <td>0</td>\n",
              "      <td>1</td>\n",
              "      <td>1</td>\n",
              "      <td>0</td>\n",
              "    </tr>\n",
              "  </tbody>\n",
              "</table>\n",
              "<p>5 rows × 38 columns</p>\n",
              "</div>\n",
              "      <button class=\"colab-df-convert\" onclick=\"convertToInteractive('df-e2c6ce05-2561-4221-83ee-b59c24d80df0')\"\n",
              "              title=\"Convert this dataframe to an interactive table.\"\n",
              "              style=\"display:none;\">\n",
              "        \n",
              "  <svg xmlns=\"http://www.w3.org/2000/svg\" height=\"24px\"viewBox=\"0 0 24 24\"\n",
              "       width=\"24px\">\n",
              "    <path d=\"M0 0h24v24H0V0z\" fill=\"none\"/>\n",
              "    <path d=\"M18.56 5.44l.94 2.06.94-2.06 2.06-.94-2.06-.94-.94-2.06-.94 2.06-2.06.94zm-11 1L8.5 8.5l.94-2.06 2.06-.94-2.06-.94L8.5 2.5l-.94 2.06-2.06.94zm10 10l.94 2.06.94-2.06 2.06-.94-2.06-.94-.94-2.06-.94 2.06-2.06.94z\"/><path d=\"M17.41 7.96l-1.37-1.37c-.4-.4-.92-.59-1.43-.59-.52 0-1.04.2-1.43.59L10.3 9.45l-7.72 7.72c-.78.78-.78 2.05 0 2.83L4 21.41c.39.39.9.59 1.41.59.51 0 1.02-.2 1.41-.59l7.78-7.78 2.81-2.81c.8-.78.8-2.07 0-2.86zM5.41 20L4 18.59l7.72-7.72 1.47 1.35L5.41 20z\"/>\n",
              "  </svg>\n",
              "      </button>\n",
              "      \n",
              "  <style>\n",
              "    .colab-df-container {\n",
              "      display:flex;\n",
              "      flex-wrap:wrap;\n",
              "      gap: 12px;\n",
              "    }\n",
              "\n",
              "    .colab-df-convert {\n",
              "      background-color: #E8F0FE;\n",
              "      border: none;\n",
              "      border-radius: 50%;\n",
              "      cursor: pointer;\n",
              "      display: none;\n",
              "      fill: #1967D2;\n",
              "      height: 32px;\n",
              "      padding: 0 0 0 0;\n",
              "      width: 32px;\n",
              "    }\n",
              "\n",
              "    .colab-df-convert:hover {\n",
              "      background-color: #E2EBFA;\n",
              "      box-shadow: 0px 1px 2px rgba(60, 64, 67, 0.3), 0px 1px 3px 1px rgba(60, 64, 67, 0.15);\n",
              "      fill: #174EA6;\n",
              "    }\n",
              "\n",
              "    [theme=dark] .colab-df-convert {\n",
              "      background-color: #3B4455;\n",
              "      fill: #D2E3FC;\n",
              "    }\n",
              "\n",
              "    [theme=dark] .colab-df-convert:hover {\n",
              "      background-color: #434B5C;\n",
              "      box-shadow: 0px 1px 3px 1px rgba(0, 0, 0, 0.15);\n",
              "      filter: drop-shadow(0px 1px 2px rgba(0, 0, 0, 0.3));\n",
              "      fill: #FFFFFF;\n",
              "    }\n",
              "  </style>\n",
              "\n",
              "      <script>\n",
              "        const buttonEl =\n",
              "          document.querySelector('#df-e2c6ce05-2561-4221-83ee-b59c24d80df0 button.colab-df-convert');\n",
              "        buttonEl.style.display =\n",
              "          google.colab.kernel.accessAllowed ? 'block' : 'none';\n",
              "\n",
              "        async function convertToInteractive(key) {\n",
              "          const element = document.querySelector('#df-e2c6ce05-2561-4221-83ee-b59c24d80df0');\n",
              "          const dataTable =\n",
              "            await google.colab.kernel.invokeFunction('convertToInteractive',\n",
              "                                                     [key], {});\n",
              "          if (!dataTable) return;\n",
              "\n",
              "          const docLinkHtml = 'Like what you see? Visit the ' +\n",
              "            '<a target=\"_blank\" href=https://colab.research.google.com/notebooks/data_table.ipynb>data table notebook</a>'\n",
              "            + ' to learn more about interactive tables.';\n",
              "          element.innerHTML = '';\n",
              "          dataTable['output_type'] = 'display_data';\n",
              "          await google.colab.output.renderOutput(dataTable, element);\n",
              "          const docLink = document.createElement('div');\n",
              "          docLink.innerHTML = docLinkHtml;\n",
              "          element.appendChild(docLink);\n",
              "        }\n",
              "      </script>\n",
              "    </div>\n",
              "  </div>\n",
              "  "
            ]
          },
          "metadata": {},
          "execution_count": 23
        }
      ]
    },
    {
      "cell_type": "code",
      "source": [
        "X = [i for i in model_df.columns if i != 'ForgivenessAmount']\n",
        "X = df[X]\n",
        "\n",
        "y = df['ForgivenessAmount']"
      ],
      "metadata": {
        "id": "DxGwPGqKSOUc"
      },
      "execution_count": null,
      "outputs": []
    },
    {
      "cell_type": "code",
      "source": [
        "#train and test split\n",
        "X_train, X_test, y_train, y_test = train_test_split(X, y, test_size=0.3, random_state=42)"
      ],
      "metadata": {
        "id": "uA5z3qlJQ6jj"
      },
      "execution_count": null,
      "outputs": []
    },
    {
      "cell_type": "code",
      "source": [
        "sel = VarianceThreshold(threshold=0)\n",
        "sel.fit(X_train)"
      ],
      "metadata": {
        "colab": {
          "base_uri": "https://localhost:8080/"
        },
        "id": "98cvVDGjTXBw",
        "outputId": "eef68bc7-47c5-46c9-e01c-8ec1c099169d"
      },
      "execution_count": null,
      "outputs": [
        {
          "output_type": "execute_result",
          "data": {
            "text/plain": [
              "VarianceThreshold(threshold=0)"
            ]
          },
          "metadata": {},
          "execution_count": 29
        }
      ]
    },
    {
      "cell_type": "code",
      "source": [
        "sum(sel.get_support())"
      ],
      "metadata": {
        "colab": {
          "base_uri": "https://localhost:8080/"
        },
        "id": "GKxlfcXTs71T",
        "outputId": "f82a1f67-4463-45c8-bc8d-bffeb554f1c2"
      },
      "execution_count": null,
      "outputs": [
        {
          "output_type": "execute_result",
          "data": {
            "text/plain": [
              "93"
            ]
          },
          "metadata": {},
          "execution_count": 30
        }
      ]
    },
    {
      "cell_type": "code",
      "source": [
        "# print the constant features\n",
        "print(\n",
        "    len([\n",
        "        x for x in X_train.columns\n",
        "        if x not in X_train.columns[sel.get_support()]\n",
        "    ]))\n",
        "\n",
        "[x for x in X_train.columns if x not in X_train.columns[sel.get_support()]]"
      ],
      "metadata": {
        "colab": {
          "base_uri": "https://localhost:8080/"
        },
        "id": "RAfRWVo7s-zx",
        "outputId": "80895477-fefa-4091-c5aa-661841e81155"
      },
      "execution_count": null,
      "outputs": [
        {
          "output_type": "stream",
          "name": "stdout",
          "text": [
            "1\n"
          ]
        },
        {
          "output_type": "execute_result",
          "data": {
            "text/plain": [
              "['BusinessType_501(c)19 – Non Profit Veterans']"
            ]
          },
          "metadata": {},
          "execution_count": 31
        }
      ]
    },
    {
      "cell_type": "code",
      "source": [
        "#get rid of this feature\n",
        "\n",
        "X_train = sel.transform(X_train)\n",
        "X_test = sel.transform(X_test)"
      ],
      "metadata": {
        "id": "PTq41Ov0tOxJ"
      },
      "execution_count": null,
      "outputs": []
    },
    {
      "cell_type": "code",
      "source": [
        "# check the shape of training and test set\n",
        "\n",
        "X_train.shape, X_test.shape"
      ],
      "metadata": {
        "colab": {
          "base_uri": "https://localhost:8080/"
        },
        "id": "rXQli4xotkWi",
        "outputId": "e3556dcf-4719-4a52-d4dc-fe486febe53d"
      },
      "execution_count": null,
      "outputs": [
        {
          "output_type": "execute_result",
          "data": {
            "text/plain": [
              "((677971, 93), (290560, 93))"
            ]
          },
          "metadata": {},
          "execution_count": 33
        }
      ]
    }
  ],
  "metadata": {
    "colab": {
      "provenance": [],
      "authorship_tag": "ABX9TyPdNmmyheAjFai/b7ZH2RAk",
      "include_colab_link": true
    },
    "kernelspec": {
      "display_name": "Python 3",
      "name": "python3"
    },
    "language_info": {
      "name": "python"
    }
  },
  "nbformat": 4,
  "nbformat_minor": 0
}